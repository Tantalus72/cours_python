{
 "cells": [
  {
   "cell_type": "markdown",
   "metadata": {},
   "source": [
    " <h1> Les boucles en python </h1>  "
   ]
  },
  {
   "cell_type": "markdown",
   "metadata": {},
   "source": [
    "\n",
    "<style>\n",
    "  p, h3 {\n",
    "    margin: 0;\n",
    "    padding: 0;\n",
    "  }\n",
    "\n",
    "  h3 {\n",
    "    margin-bottom: 20px;\n",
    "  }\n",
    "h2 {\n",
    "  text-decoration: underline;\n",
    "}\n",
    "</style>\n",
    "\n",
    "<h2 id=\"sommaire\">Sommaire</h2>\n",
    "\n",
    "<h3>I/ Les boucles</h3>\n",
    "<p><a href=\"#for\">1/ for / pour</a></p>\n",
    "<p><a href=\"#while\">2/ while / tant que</a></p>\n",
    "<p><a href=\"#try_except\">3/ test avec try-except</a></p>\n",
    "\n",
    "\n",
    "\n",
    "\n"
   ]
  },
  {
   "cell_type": "markdown",
   "metadata": {},
   "source": [
    "\n",
    "<h2>I/ Les boucles</h2>"
   ]
  },
  {
   "cell_type": "markdown",
   "metadata": {},
   "source": [
    "<h3 id=\"for\">1/ Boucle for</h3>\n",
    "<style>\n",
    "    p {\n",
    "        font-size: 10px;\n",
    "    }\n",
    "</style>\n",
    "<p><a href=\"#sommaire\">Sommaire</a></p>\n",
    "\n"
   ]
  },
  {
   "cell_type": "code",
   "execution_count": null,
   "metadata": {},
   "outputs": [],
   "source": [
    "v : str = \"pizza\"\n",
    "for lettre in v:\n",
    "    print(lettre)\n",
    "print()\n",
    "\n",
    "for i in range(0,5):\n",
    "    print(i)\n",
    "print()\n",
    "\n",
    "x = range(6)\n",
    "print(x)\n",
    "for n in x:\n",
    "  print(n)\n",
    "\n",
    "print()\n",
    "x = range(3, 8, 2)\n",
    "for n in x:\n",
    "  print(n)\n",
    "\n",
    "print()\n",
    "liste = [1,5,10,15,20,25]\n",
    "for i in liste:\n",
    "    if i > 15:\n",
    "        break\n",
    "    print(i)"
   ]
  },
  {
   "cell_type": "markdown",
   "metadata": {},
   "source": [
    "<h3 id=\"while\">2/ Boucle while</h3>\n",
    "<style>\n",
    "    p {\n",
    "        font-size: 10px;\n",
    "    }\n",
    "</style>\n",
    "<p><a href=\"#sommaire\">Sommaire</a></p>"
   ]
  },
  {
   "cell_type": "code",
   "execution_count": null,
   "metadata": {},
   "outputs": [],
   "source": [
    "i :int= 1\n",
    "while i < 6:\n",
    "    print(i)\n",
    "    i += 1\n",
    "print()\n",
    "\n",
    "i :int= 1\n",
    "while i < 6:\n",
    "    print(i)\n",
    "    if i == 3:\n",
    "        break\n",
    "    i += 1\n",
    "\n",
    "i :int= 0\n",
    "while i < 6:\n",
    "    i += 1\n",
    "    if i == 3:\n",
    "        continue\n",
    "    print(i)\n",
    "\n",
    "i :int= 1\n",
    "while i < 6:\n",
    "    print(i)\n",
    "    i += 1\n",
    "else:\n",
    "    print(\"i is no longer less than 6\")"
   ]
  },
  {
   "cell_type": "markdown",
   "metadata": {},
   "source": [
    "\n",
    "\n",
    "<h3 id=\"try_except\">3/ Test avec try except</h3>\n",
    "<style>\n",
    "    p {\n",
    "        font-size: 10px;\n",
    "    }\n",
    "</style>\n",
    "<p><a href=\"#sommaire\">Sommaire</a></p>\n"
   ]
  },
  {
   "cell_type": "code",
   "execution_count": null,
   "metadata": {},
   "outputs": [],
   "source": [
    "try:\n",
    "    nombre = int(input(\"Entrez un nombre : \"))\n",
    "    print(f\"Le nombre est : {nombre}\")\n",
    "except ValueError:\n",
    "    # si ValueError le code s'exécute \n",
    "    print(\"Erreur : Vous devez entrer un nombre entier\")\n",
    "\n",
    "\n",
    "\n",
    "try:\n",
    "    numerateur = int(input(\"Entrez le numérateur : \"))\n",
    "    denominateur = int(input(\"Entrez le dénominateur : \"))\n",
    "    resultat = numerateur / denominateur\n",
    "    print(f\"Le résultat est : {resultat}\")\n",
    "except ValueError:\n",
    "    print(\"Erreur : Vous devez entrer des nombres entiers !\")\n",
    "except ZeroDivisionError:\n",
    "    print(\"Erreur : Division par zéro non autorisée !\")\n",
    "\n",
    "# Utilisation de else et finally\n",
    "try:\n",
    "    fichier = open(\"exemple.txt\", \"r\")\n",
    "    contenu = fichier.read()\n",
    "    print(contenu)\n",
    "except FileNotFoundError:\n",
    "    print(\"Erreur : Le fichier n'existe pas !\")\n",
    "else:\n",
    "    print(\"Le fichier a été lu avec succès.\")\n",
    "finally:\n",
    "    print(\"Exécution terminée.\")\n",
    "\n",
    "# else est exécuté si aucune exception n'est levée dans try\n",
    "# finally est toujours exécuté\n",
    "\n",
    "# \"creer\" une exception avec raise\n",
    "def division(a, b):\n",
    "    if b == 0:\n",
    "        raise ValueError(\"Le dénominateur ne peut pas être zéro.\")\n",
    "    return a / b\n",
    "\n",
    "try:\n",
    "    print(division(10, 0))\n",
    "except ValueError as e: # e -> desc/contenu de l'erreur\n",
    "    print(f\"Erreur : {e}\")\n",
    "\n",
    "# Utilisation avancée : Capturer l'exception et ses détails\n",
    "try:\n",
    "    liste = [1, 2, 3]\n",
    "    print(liste[5])\n",
    "except IndexError as e:\n",
    "    print(f\"Erreur : {e}\")"
   ]
  }
 ],
 "metadata": {
  "kernelspec": {
   "display_name": "Python 3",
   "language": "python",
   "name": "python3"
  },
  "language_info": {
   "codemirror_mode": {
    "name": "ipython",
    "version": 3
   },
   "file_extension": ".py",
   "mimetype": "text/x-python",
   "name": "python",
   "nbconvert_exporter": "python",
   "pygments_lexer": "ipython3",
   "version": "3.11.9"
  }
 },
 "nbformat": 4,
 "nbformat_minor": 2
}
