{
 "cells": [
  {
   "cell_type": "markdown",
   "metadata": {},
   "source": [
    "### Programmation Orienté Objet (POO)"
   ]
  },
  {
   "cell_type": "code",
   "execution_count": null,
   "metadata": {},
   "outputs": [],
   "source": [
    "# Définir une classe\n",
    "class Exemple:\n",
    "    \"\"\"\n",
    "    Classe de base \n",
    "    \"\"\"\n",
    "    def __init__(self, nom, age): # constructeur\n",
    "        self.nom = nom  # Attribut\n",
    "        self.age = age  \n",
    "\n",
    "    def se_deplacer(self): #methode\n",
    "        print(f\"{self.nom} se déplace.\")\n",
    "\n",
    "# Création d'objets \n",
    "chien = Exemple(\"E1\", 5)\n",
    "chat = Exemple(\"E2\", 3)\n",
    "\n",
    "print(f\"Nom : {chien.nom}, Âge : {chien.age}\")\n",
    "chien.se_deplacer()\n",
    "\n",
    "print(f\"Nom : {chat.nom}, Âge : {chat.age}\")\n",
    "chat.se_deplacer()\n",
    "\n",
    "# Héritage\n",
    "class Chien(Exemple):\n",
    "    def __init__(self, nom, age, race):\n",
    "        super().__init__(nom, age)  # Appelle le constructeur de la classe parente\n",
    "        self.race = race\n",
    "\n",
    "    def aboyer(self):\n",
    "        print(f\"{self.nom} aboie !\")\n",
    "\n",
    "berger = Chien(\"Max\", 4, \"Berger Allemand\")\n",
    "print(f\"Nom : {berger.nom}, Race : {berger.race}\")\n",
    "berger.se_deplacer()\n",
    "berger.aboyer()\n",
    "\n",
    "\n",
    "class Voiture(object):\n",
    "\n",
    "    def __init__(self):\n",
    "        self._roues=4\n",
    "\n",
    "    @property #permet d'appeller cette valeur sant utiliser un methode, ma_voiture.roues <- Pas de ()\n",
    "    def roues(self):\n",
    "        print(\"Récupération du nombre de roues\")\n",
    "        return self._roues\n",
    "\n",
    "    @roues.setter\n",
    "    def roues(self, v):\n",
    "        print(\"Changement du nombre de roues\")\n",
    "        self._roues  =  v\n",
    "        \n",
    "    @roues.deleter\n",
    "    def roues(self):\n",
    "        print(\"Suppression de l'attribut roues\")\n",
    "        del self._roues\n",
    "\n"
   ]
  }
 ],
 "metadata": {
  "kernelspec": {
   "display_name": "Python 3",
   "language": "python",
   "name": "python3"
  },
  "language_info": {
   "codemirror_mode": {
    "name": "ipython",
    "version": 3
   },
   "file_extension": ".py",
   "mimetype": "text/x-python",
   "name": "python",
   "nbconvert_exporter": "python",
   "pygments_lexer": "ipython3",
   "version": "3.11.9"
  }
 },
 "nbformat": 4,
 "nbformat_minor": 2
}
