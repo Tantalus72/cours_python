{
 "cells": [
  {
   "cell_type": "markdown",
   "metadata": {},
   "source": [
    "### Fonction"
   ]
  },
  {
   "cell_type": "code",
   "execution_count": null,
   "metadata": {},
   "outputs": [],
   "source": [
    "def Procedure(valeur:int)->None:\n",
    "    return None\n",
    "\n",
    "def Fonction(valeur:int)->int: # int ou autre type\n",
    "    return 0\n",
    "\n",
    "def Docstring(valeur:int)->int:\n",
    "    \"\"\"\n",
    "    desc : description de ce qu'il se passe\n",
    "    @input : valeur(s) entré\n",
    "    @output : valeur(s) renvoyé \n",
    "    \"\"\"\n",
    "    return 0"
   ]
  }
 ],
 "metadata": {
  "language_info": {
   "name": "python"
  }
 },
 "nbformat": 4,
 "nbformat_minor": 2
}
