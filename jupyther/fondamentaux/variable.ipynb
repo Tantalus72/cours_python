{
 "cells": [
  {
   "cell_type": "markdown",
   "metadata": {},
   "source": [
    " <h1> Les variables en python </h1>  "
   ]
  },
  {
   "cell_type": "markdown",
   "metadata": {},
   "source": [
    "\n",
    "<style>\n",
    "  p, h3 {\n",
    "    margin: 0;\n",
    "    padding: 0;\n",
    "  }\n",
    "\n",
    "  h3 {\n",
    "    margin-bottom: 20px;\n",
    "  }\n",
    "h2 {\n",
    "  text-decoration: underline;\n",
    "}\n",
    "</style>\n",
    "\n",
    "<h2>Sommaire</h2>\n",
    "\n",
    "<h3>I/ Variables habituels</h3>\n",
    "<p><a href=\"#chaine\">1/ Chaine de caractère -> string</a></p>\n",
    "<p><a href=\"#entier\">2/ Entier -> int</a></p>\n",
    "<p><a href=\"#condition\">3/ Condition -> bool</a></p>\n",
    "<p><a href=\"#reel\">4/ Réel -> float</a></p>\n",
    "\n",
    "<h3>II/ Tableau/liste</h3>\n",
    "<p><a href=\"#liste\">1/ Liste de variable -> list</a></p>\n",
    "<p><a href=\"#dictionnaire\">2/ Dictionnaire -> dict</a></p>\n",
    "<p><a href=\"#ensemble\">3/ Ensemble -> set</a></p>\n",
    "<p><a href=\"#tuple\">4/ T-uple -> tuple</a></p>\n",
    "<p><a href=\"#chaine2\">5/ Chaine de caractère -> str (2ème cas)</a></p>\n",
    "\n",
    "\n"
   ]
  },
  {
   "cell_type": "markdown",
   "metadata": {},
   "source": [
    "<h3 id=\"chaine\">1/ Chaine de caractère -> string</h3>\n",
    "\n",
    "\n"
   ]
  },
  {
   "cell_type": "code",
   "execution_count": null,
   "metadata": {},
   "outputs": [],
   "source": [
    "### Declaration ###\n",
    "\n",
    "chaine: str = \"Hello World\"\n",
    "print(chaine)  # Output: Hello World\n",
    "\n",
    "\n",
    "### Concatenation ###\n",
    "\n",
    "chaine1: str = \"Hello\"\n",
    "chaine2: str = \"World\"\n",
    "chaine3: str = chaine1 + chaine2  # Output: HelloWorld\n",
    "print(chaine3)\n",
    "\n",
    "\n",
    "### Indexation ###\n",
    "\n",
    "chaine: str = \"Hello World\"\n",
    "print(chaine[0:5])    # Output: Hello\n",
    "print(chaine[6:])     # Output: World\n",
    "print(chaine[-5:])    # Output: World\n",
    "\n",
    "\n",
    "### Formatage ###\n",
    "\n",
    "nom: str = \"Erwann\"\n",
    "age: int = 18\n",
    "chaine_formattee: str = f\"Hello, my name is {nom} and I am {age} years old.\"\n",
    "print(chaine_formattee)  # Output: Hello, my name is Erwann and I am 18 years old.\n",
    "\n",
    "\n",
    "### Les opérateurs ###\n",
    "\n",
    "chaine: str = \"Hello World\"\n",
    "print(len(chaine))          # Output: 11\n",
    "print(chaine.upper())       # Output: HELLO WORLD\n",
    "print(chaine.lower())       # Output: hello world\n",
    "print(chaine.split())       # Output: ['Hello', 'World']\n",
    "\n",
    "\n",
    "### Les fonctions à sortie booléenne ###\n",
    "\n",
    "chaine: str = \"Hello World\"\n",
    "print(chaine.isalpha())     # Output: False - vérifie si la chaîne contient uniquement des lettres\n",
    "print(chaine.isalnum())     # Output: False - vérifie si la chaîne contient uniquement des lettres et chiffres\n",
    "print(chaine.islower())     # Output: False - vérifie si la chaîne est en minuscules\n",
    "print(chaine.isupper())     # Output: False - vérifie si la chaîne est en majuscules\n",
    "print(chaine.startswith(\"Hello\"))  # Output: True\n",
    "print(chaine.endswith(\"World\"))    # Output: True\n",
    "\n",
    "\n",
    "### Docstring ###\n",
    "\n",
    "texte_multiligne: str = \"\"\"C'est un texte \n",
    "à plusieurs lignes.\n",
    "Il s'étend sur plusieurs lignes.\"\"\"\n",
    "print(texte_multiligne)\n",
    "# Output:\n",
    "# C'est un texte \n",
    "# à plusieurs lignes.\n",
    "# Il s'étend sur plusieurs lignes.\n",
    "\n",
    "\n",
    "### Les méthodes ###\n",
    "\n",
    "chaine: str = \"Hello World\"\n",
    "print(chaine.capitalize())       # Output: Hello world\n",
    "print(chaine.count(\"l\"))         # Output: 3\n",
    "print(chaine.find(\"World\"))      # Output: 6\n",
    "print(chaine.replace(\"World\", \"Universe\"))  # Output: Hello Universe\n",
    "\n",
    "\n",
    "### Suppression des espaces ###\n",
    "\n",
    "chaine: str = \"   Hello World   \"\n",
    "print(chaine.strip())    # Output: \"Hello World\"\n",
    "print(chaine.lstrip())   # Output: \"Hello World   \"\n",
    "print(chaine.rstrip())   # Output: \"   Hello World\"\n",
    "\n",
    "\n",
    "### Joindre des mots ###\n",
    "\n",
    "liste_mots: list = [\"Hello\", \"World\", \"Python\"]\n",
    "print(\" \".join(liste_mots))  # Output: \"Hello World Python\"\n",
    "\n",
    "\n",
    "### Justification ###\n",
    "\n",
    "chaine: str = \"Hello\"\n",
    "print(chaine.center(10, \"-\"))  # Output: \"--Hello---\"\n",
    "print(chaine.ljust(10, \"-\"))   # Output: \"Hello-----\"\n",
    "print(chaine.rjust(10, \"-\"))   # Output: \"-----Hello\"\n",
    "\n",
    "\n",
    "### Partitionner une chaîne ###\n",
    "\n",
    "chaine: str = \"Hello World Python\"\n",
    "print(chaine.partition(\"World\"))   # Output: ('Hello ', 'World', ' Python')\n",
    "print(chaine.rpartition(\"o\"))      # Output: ('Hello World Pyth', 'o', 'n')\n",
    "\n",
    "\n",
    "### Remplissage avec des zéros ###\n",
    "\n",
    "numero: str = \"42\"\n",
    "print(numero.zfill(5))  # Output: \"00042\"\n",
    "\n",
    "\n",
    "### Inversion de casse ###\n",
    "\n",
    "chaine: str = \"Hello World\"\n",
    "print(chaine.swapcase())  # Output: \"hELLO wORLD\"\n"
   ]
  },
  {
   "cell_type": "markdown",
   "metadata": {},
   "source": [
    "<h3 id=\"entier\">2/ Entier -> int</h3>\n",
    "<p>Les entiers en Python...</p>"
   ]
  },
  {
   "cell_type": "code",
   "execution_count": null,
   "metadata": {
    "vscode": {
     "languageId": "plaintext"
    }
   },
   "outputs": [],
   "source": []
  },
  {
   "cell_type": "markdown",
   "metadata": {},
   "source": [
    "\n",
    "\n",
    "<h3 id=\"condition\">3/ Condition -> bool</h3>\n",
    "<p>Les valeurs booléennes en Python...</p>\n"
   ]
  },
  {
   "cell_type": "code",
   "execution_count": null,
   "metadata": {
    "vscode": {
     "languageId": "plaintext"
    }
   },
   "outputs": [],
   "source": []
  },
  {
   "cell_type": "markdown",
   "metadata": {},
   "source": [
    "\n",
    "<h3 id=\"reel\">4/ Réel -> float</h3>\n",
    "<p>Les nombres flottants en Python...</p>"
   ]
  },
  {
   "cell_type": "code",
   "execution_count": null,
   "metadata": {
    "vscode": {
     "languageId": "plaintext"
    }
   },
   "outputs": [],
   "source": []
  },
  {
   "cell_type": "markdown",
   "metadata": {},
   "source": [
    "\n",
    "\n",
    "<h3 id=\"liste\">1/ Liste de variable -> list</h3>\n",
    "<p>Les listes en Python...</p>\n"
   ]
  },
  {
   "cell_type": "code",
   "execution_count": null,
   "metadata": {
    "vscode": {
     "languageId": "plaintext"
    }
   },
   "outputs": [],
   "source": []
  },
  {
   "cell_type": "markdown",
   "metadata": {},
   "source": [
    "\n",
    "<h3 id=\"dictionnaire\">2/ Dictionnaire -> dict</h3>\n",
    "<p>Les dictionnaires en Python...</p>\n"
   ]
  },
  {
   "cell_type": "code",
   "execution_count": null,
   "metadata": {
    "vscode": {
     "languageId": "plaintext"
    }
   },
   "outputs": [],
   "source": []
  },
  {
   "cell_type": "markdown",
   "metadata": {},
   "source": [
    "\n",
    "<h3 id=\"ensemble\">3/ Ensemble -> set</h3>\n",
    "<p>Les ensembles en Python...</p>\n"
   ]
  },
  {
   "cell_type": "code",
   "execution_count": null,
   "metadata": {
    "vscode": {
     "languageId": "plaintext"
    }
   },
   "outputs": [],
   "source": []
  },
  {
   "cell_type": "markdown",
   "metadata": {},
   "source": [
    "\n",
    "<h3 id=\"tuple\">4/ T-uple -> tuple</h3>\n",
    "<p>Les tuples en Python...</p>\n"
   ]
  },
  {
   "cell_type": "code",
   "execution_count": null,
   "metadata": {
    "vscode": {
     "languageId": "plaintext"
    }
   },
   "outputs": [],
   "source": []
  },
  {
   "cell_type": "markdown",
   "metadata": {},
   "source": [
    "\n",
    "<h3 id=\"chaine2\">5/ Chaine de caractère -> str (2ème cas)</h3>\n",
    "<p>Les chaînes de caractères (deuxième cas) en Python...</p>"
   ]
  },
  {
   "cell_type": "code",
   "execution_count": null,
   "metadata": {
    "vscode": {
     "languageId": "plaintext"
    }
   },
   "outputs": [],
   "source": []
  }
 ],
 "metadata": {
  "language_info": {
   "name": "python"
  }
 },
 "nbformat": 4,
 "nbformat_minor": 2
}
