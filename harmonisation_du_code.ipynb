{
 "cells": [
  {
   "cell_type": "markdown",
   "metadata": {},
   "source": [
    "### Les regles d'harmonisation de code \n",
    "\n",
    "- nom fonctions en anglais, avec un docstring (desc,@input,@output)\n",
    "- variables et fonctions declarés avec leur type \n",
    "- variables en miniscules et en anglais (au minimum sans accent)\n",
    "- code aéré et commenté \n",
    "- pas de while infini\n",
    "- pas plus de 150 caractères par ligne\n"
   ]
  }
 ],
 "metadata": {
  "language_info": {
   "name": "python"
  }
 },
 "nbformat": 4,
 "nbformat_minor": 2
}
